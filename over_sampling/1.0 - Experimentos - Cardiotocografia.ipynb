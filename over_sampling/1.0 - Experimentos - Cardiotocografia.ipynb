{
  "cells": [
    {
      "cell_type": "markdown",
      "metadata": {
        "id": "Lsb1jfR8TLHF"
      },
      "source": [
        "# Importação de bibliotecas"
      ]
    },
    {
      "cell_type": "code",
      "execution_count": 1,
      "metadata": {
        "id": "AgNS75B9ckNb"
      },
      "outputs": [
        {
          "name": "stderr",
          "output_type": "stream",
          "text": [
            "\n",
            "[notice] A new release of pip is available: 24.0 -> 24.2\n",
            "[notice] To update, run: python.exe -m pip install --upgrade pip\n"
          ]
        }
      ],
      "source": [
        "!pip install --ignore-installed mlflow --quiet"
      ]
    },
    {
      "cell_type": "code",
      "execution_count": 2,
      "metadata": {
        "id": "AW9pTpr9fbHU"
      },
      "outputs": [
        {
          "name": "stderr",
          "output_type": "stream",
          "text": [
            "\n",
            "[notice] A new release of pip is available: 24.0 -> 24.2\n",
            "[notice] To update, run: python.exe -m pip install --upgrade pip\n"
          ]
        }
      ],
      "source": [
        "!pip install pyngrok --quiet"
      ]
    },
    {
      "cell_type": "code",
      "execution_count": 3,
      "metadata": {
        "id": "_SgHaaXDTxjP"
      },
      "outputs": [],
      "source": [
        "# Utilitárias para dados\n",
        "import pandas as pd\n",
        "import numpy as np\n",
        "\n",
        "# Visualização\n",
        "import matplotlib.pyplot as plt\n",
        "import seaborn as sns\n",
        "\n",
        "# Model selection\n",
        "from sklearn.model_selection import train_test_split\n",
        "from sklearn.model_selection import GridSearchCV\n",
        "\n",
        "# Pré-processamento e métricas\n",
        "from sklearn.preprocessing import label_binarize\n",
        "from sklearn.metrics import make_scorer\n",
        "from sklearn.metrics import confusion_matrix, accuracy_score, precision_score, recall_score, f1_score, fbeta_score\n",
        "from sklearn.metrics import roc_auc_score, roc_curve, auc\n",
        "\n",
        "#  Algoritmos\n",
        "from sklearn.neighbors import KNeighborsClassifier\n",
        "from sklearn.tree import DecisionTreeClassifier\n",
        "from sklearn.neural_network import MLPClassifier\n",
        "from sklearn.naive_bayes import GaussianNB\n",
        "from sklearn.svm import SVC\n",
        "from sklearn.ensemble import RandomForestClassifier\n",
        "\n",
        "# MLFlow e Ngrok\n",
        "import mlflow\n",
        "import mlflow.sklearn\n",
        "from mlflow.models.signature import infer_signature\n",
        "from pyngrok import ngrok\n"
      ]
    },
    {
      "cell_type": "code",
      "execution_count": 4,
      "metadata": {
        "colab": {
          "base_uri": "https://localhost:8080/"
        },
        "id": "qyoPfAWsTLHN",
        "outputId": "2faee2a5-53f5-4f73-8597-927afacfa736"
      },
      "outputs": [
        {
          "name": "stdout",
          "output_type": "stream",
          "text": [
            "<class 'pandas.core.frame.DataFrame'>\n",
            "RangeIndex: 3483 entries, 0 to 3482\n",
            "Data columns (total 22 columns):\n",
            " #   Column    Non-Null Count  Dtype  \n",
            "---  ------    --------------  -----  \n",
            " 0   LB        3483 non-null   float64\n",
            " 1   AC        3483 non-null   float64\n",
            " 2   FM        3483 non-null   float64\n",
            " 3   UC        3483 non-null   float64\n",
            " 4   DL        3483 non-null   float64\n",
            " 5   DS        3483 non-null   float64\n",
            " 6   DP        3483 non-null   float64\n",
            " 7   ASTV      3483 non-null   float64\n",
            " 8   MSTV      3483 non-null   float64\n",
            " 9   ALTV      3483 non-null   float64\n",
            " 10  MLTV      3483 non-null   float64\n",
            " 11  Width     3483 non-null   float64\n",
            " 12  Min       3483 non-null   float64\n",
            " 13  Max       3483 non-null   float64\n",
            " 14  Nmax      3483 non-null   float64\n",
            " 15  Nzeros    3483 non-null   float64\n",
            " 16  Mode      3483 non-null   float64\n",
            " 17  Mean      3483 non-null   float64\n",
            " 18  Median    3483 non-null   float64\n",
            " 19  Variance  3483 non-null   float64\n",
            " 20  Tendency  3483 non-null   float64\n",
            " 21  NSP       3483 non-null   int64  \n",
            "dtypes: float64(21), int64(1)\n",
            "memory usage: 598.8 KB\n"
          ]
        }
      ],
      "source": [
        "df = pd.read_csv('CTG_train_pre_processado.csv')\n",
        "df.info()"
      ]
    },
    {
      "cell_type": "code",
      "execution_count": 5,
      "metadata": {
        "colab": {
          "base_uri": "https://localhost:8080/",
          "height": 739
        },
        "id": "ECFW_xOBVsf9",
        "outputId": "4427ce9b-9155-4966-fc17-5722fdfd28a6"
      },
      "outputs": [
        {
          "data": {
            "text/html": [
              "<div>\n",
              "<style scoped>\n",
              "    .dataframe tbody tr th:only-of-type {\n",
              "        vertical-align: middle;\n",
              "    }\n",
              "\n",
              "    .dataframe tbody tr th {\n",
              "        vertical-align: top;\n",
              "    }\n",
              "\n",
              "    .dataframe thead th {\n",
              "        text-align: right;\n",
              "    }\n",
              "</style>\n",
              "<table border=\"1\" class=\"dataframe\">\n",
              "  <thead>\n",
              "    <tr style=\"text-align: right;\">\n",
              "      <th></th>\n",
              "      <th>0</th>\n",
              "      <th>1</th>\n",
              "      <th>2</th>\n",
              "      <th>3</th>\n",
              "      <th>4</th>\n",
              "    </tr>\n",
              "  </thead>\n",
              "  <tbody>\n",
              "    <tr>\n",
              "      <th>LB</th>\n",
              "      <td>0.433962</td>\n",
              "      <td>0.679245</td>\n",
              "      <td>0.245283</td>\n",
              "      <td>0.377358</td>\n",
              "      <td>0.679245</td>\n",
              "    </tr>\n",
              "    <tr>\n",
              "      <th>AC</th>\n",
              "      <td>0.222222</td>\n",
              "      <td>0.166667</td>\n",
              "      <td>0.444444</td>\n",
              "      <td>0.444444</td>\n",
              "      <td>0.055556</td>\n",
              "    </tr>\n",
              "    <tr>\n",
              "      <th>FM</th>\n",
              "      <td>0.000000</td>\n",
              "      <td>0.103950</td>\n",
              "      <td>0.000000</td>\n",
              "      <td>0.083160</td>\n",
              "      <td>0.000000</td>\n",
              "    </tr>\n",
              "    <tr>\n",
              "      <th>UC</th>\n",
              "      <td>0.066667</td>\n",
              "      <td>0.133333</td>\n",
              "      <td>0.333333</td>\n",
              "      <td>0.333333</td>\n",
              "      <td>0.333333</td>\n",
              "    </tr>\n",
              "    <tr>\n",
              "      <th>DL</th>\n",
              "      <td>0.000000</td>\n",
              "      <td>0.400000</td>\n",
              "      <td>0.066667</td>\n",
              "      <td>0.000000</td>\n",
              "      <td>0.800000</td>\n",
              "    </tr>\n",
              "    <tr>\n",
              "      <th>DS</th>\n",
              "      <td>0.000000</td>\n",
              "      <td>0.000000</td>\n",
              "      <td>0.000000</td>\n",
              "      <td>0.000000</td>\n",
              "      <td>0.000000</td>\n",
              "    </tr>\n",
              "    <tr>\n",
              "      <th>DP</th>\n",
              "      <td>0.000000</td>\n",
              "      <td>0.200000</td>\n",
              "      <td>0.000000</td>\n",
              "      <td>0.000000</td>\n",
              "      <td>0.000000</td>\n",
              "    </tr>\n",
              "    <tr>\n",
              "      <th>ASTV</th>\n",
              "      <td>0.202703</td>\n",
              "      <td>0.729730</td>\n",
              "      <td>0.243243</td>\n",
              "      <td>0.405405</td>\n",
              "      <td>0.148649</td>\n",
              "    </tr>\n",
              "    <tr>\n",
              "      <th>MSTV</th>\n",
              "      <td>0.163934</td>\n",
              "      <td>0.508197</td>\n",
              "      <td>0.262295</td>\n",
              "      <td>0.213115</td>\n",
              "      <td>0.557377</td>\n",
              "    </tr>\n",
              "    <tr>\n",
              "      <th>ALTV</th>\n",
              "      <td>0.010989</td>\n",
              "      <td>0.000000</td>\n",
              "      <td>0.000000</td>\n",
              "      <td>0.000000</td>\n",
              "      <td>0.000000</td>\n",
              "    </tr>\n",
              "    <tr>\n",
              "      <th>MLTV</th>\n",
              "      <td>0.155819</td>\n",
              "      <td>0.005917</td>\n",
              "      <td>0.197239</td>\n",
              "      <td>0.153846</td>\n",
              "      <td>0.037475</td>\n",
              "    </tr>\n",
              "    <tr>\n",
              "      <th>Width</th>\n",
              "      <td>0.329480</td>\n",
              "      <td>0.635838</td>\n",
              "      <td>0.728324</td>\n",
              "      <td>0.832370</td>\n",
              "      <td>0.815029</td>\n",
              "    </tr>\n",
              "    <tr>\n",
              "      <th>Min</th>\n",
              "      <td>0.440367</td>\n",
              "      <td>0.155963</td>\n",
              "      <td>0.174312</td>\n",
              "      <td>0.009174</td>\n",
              "      <td>0.000000</td>\n",
              "    </tr>\n",
              "    <tr>\n",
              "      <th>Max</th>\n",
              "      <td>0.310345</td>\n",
              "      <td>0.500000</td>\n",
              "      <td>0.655172</td>\n",
              "      <td>0.655172</td>\n",
              "      <td>0.620690</td>\n",
              "    </tr>\n",
              "    <tr>\n",
              "      <th>Nmax</th>\n",
              "      <td>0.166667</td>\n",
              "      <td>0.388889</td>\n",
              "      <td>0.500000</td>\n",
              "      <td>0.500000</td>\n",
              "      <td>0.666667</td>\n",
              "    </tr>\n",
              "    <tr>\n",
              "      <th>Nzeros</th>\n",
              "      <td>0.000000</td>\n",
              "      <td>0.000000</td>\n",
              "      <td>0.000000</td>\n",
              "      <td>0.000000</td>\n",
              "      <td>0.142857</td>\n",
              "    </tr>\n",
              "    <tr>\n",
              "      <th>Mode</th>\n",
              "      <td>0.574803</td>\n",
              "      <td>0.637795</td>\n",
              "      <td>0.566929</td>\n",
              "      <td>0.574803</td>\n",
              "      <td>0.653543</td>\n",
              "    </tr>\n",
              "    <tr>\n",
              "      <th>Mean</th>\n",
              "      <td>0.550459</td>\n",
              "      <td>0.348624</td>\n",
              "      <td>0.541284</td>\n",
              "      <td>0.577982</td>\n",
              "      <td>0.495413</td>\n",
              "    </tr>\n",
              "    <tr>\n",
              "      <th>Median</th>\n",
              "      <td>0.522936</td>\n",
              "      <td>0.642202</td>\n",
              "      <td>0.532110</td>\n",
              "      <td>0.522936</td>\n",
              "      <td>0.532110</td>\n",
              "    </tr>\n",
              "    <tr>\n",
              "      <th>Variance</th>\n",
              "      <td>0.014870</td>\n",
              "      <td>0.334572</td>\n",
              "      <td>0.074349</td>\n",
              "      <td>0.048327</td>\n",
              "      <td>0.267658</td>\n",
              "    </tr>\n",
              "    <tr>\n",
              "      <th>Tendency</th>\n",
              "      <td>0.500000</td>\n",
              "      <td>1.000000</td>\n",
              "      <td>0.500000</td>\n",
              "      <td>0.500000</td>\n",
              "      <td>0.500000</td>\n",
              "    </tr>\n",
              "    <tr>\n",
              "      <th>NSP</th>\n",
              "      <td>1.000000</td>\n",
              "      <td>1.000000</td>\n",
              "      <td>1.000000</td>\n",
              "      <td>1.000000</td>\n",
              "      <td>1.000000</td>\n",
              "    </tr>\n",
              "  </tbody>\n",
              "</table>\n",
              "</div>"
            ],
            "text/plain": [
              "                 0         1         2         3         4\n",
              "LB        0.433962  0.679245  0.245283  0.377358  0.679245\n",
              "AC        0.222222  0.166667  0.444444  0.444444  0.055556\n",
              "FM        0.000000  0.103950  0.000000  0.083160  0.000000\n",
              "UC        0.066667  0.133333  0.333333  0.333333  0.333333\n",
              "DL        0.000000  0.400000  0.066667  0.000000  0.800000\n",
              "DS        0.000000  0.000000  0.000000  0.000000  0.000000\n",
              "DP        0.000000  0.200000  0.000000  0.000000  0.000000\n",
              "ASTV      0.202703  0.729730  0.243243  0.405405  0.148649\n",
              "MSTV      0.163934  0.508197  0.262295  0.213115  0.557377\n",
              "ALTV      0.010989  0.000000  0.000000  0.000000  0.000000\n",
              "MLTV      0.155819  0.005917  0.197239  0.153846  0.037475\n",
              "Width     0.329480  0.635838  0.728324  0.832370  0.815029\n",
              "Min       0.440367  0.155963  0.174312  0.009174  0.000000\n",
              "Max       0.310345  0.500000  0.655172  0.655172  0.620690\n",
              "Nmax      0.166667  0.388889  0.500000  0.500000  0.666667\n",
              "Nzeros    0.000000  0.000000  0.000000  0.000000  0.142857\n",
              "Mode      0.574803  0.637795  0.566929  0.574803  0.653543\n",
              "Mean      0.550459  0.348624  0.541284  0.577982  0.495413\n",
              "Median    0.522936  0.642202  0.532110  0.522936  0.532110\n",
              "Variance  0.014870  0.334572  0.074349  0.048327  0.267658\n",
              "Tendency  0.500000  1.000000  0.500000  0.500000  0.500000\n",
              "NSP       1.000000  1.000000  1.000000  1.000000  1.000000"
            ]
          },
          "execution_count": 5,
          "metadata": {},
          "output_type": "execute_result"
        }
      ],
      "source": [
        "df.head().T"
      ]
    },
    {
      "cell_type": "markdown",
      "metadata": {
        "id": "ty39HRsBTLHO"
      },
      "source": [
        "# Separação dos conjuntos"
      ]
    },
    {
      "cell_type": "code",
      "execution_count": 6,
      "metadata": {
        "id": "lxWbvRwWTLHP"
      },
      "outputs": [],
      "source": [
        "df_test = pd.read_csv('CTG_test_pre_processado.csv', index_col=0)\n",
        "df_train = pd.read_csv('CTG_train_pre_processado.csv', index_col=0)\n",
        "\n",
        "X_train = df_train.drop(columns=['NSP'])\n",
        "y_train = df_train['NSP']\n",
        "X_test = df_test.drop(columns=['NSP'])\n",
        "y_test = df_test['NSP']\n",
        "\n",
        "X_test = X_test.astype(float)\n",
        "y_test = y_test.astype(float)\n",
        "X_train = X_train.astype(float)\n",
        "y_train = y_train.astype(float)"
      ]
    },
    {
      "cell_type": "markdown",
      "metadata": {
        "id": "BDW-EXvKTLHR"
      },
      "source": [
        "# Definição de funções e parâmetros"
      ]
    },
    {
      "cell_type": "code",
      "execution_count": 7,
      "metadata": {
        "id": "af0DnpGVTLHS"
      },
      "outputs": [],
      "source": [
        "def evaluate_best_model(grid_search, X_test, y_test):\n",
        "    # Melhor modelo do grid search\n",
        "    best_model = grid_search.best_estimator_\n",
        "\n",
        "    # Previsões do modelo\n",
        "    y_pred = best_model.predict(X_test)\n",
        "    y_proba = best_model.predict_proba(X_test)\n",
        "\n",
        "    test_metrics = {}\n",
        "\n",
        "    # Cálculo das métricas\n",
        "    f1 = f1_score(y_test, y_pred, average='weighted')\n",
        "    accuracy = accuracy_score(y_test, y_pred)\n",
        "    fbeta = fbeta_score(y_test, y_pred, average='weighted', beta=2)\n",
        "    precision = precision_score(y_test, y_pred, average='weighted')\n",
        "    recall = recall_score(y_test, y_pred, average='weighted')\n",
        "\n",
        "    # Criação dos dummies pois a curva roc usa dados binários\n",
        "    y_test_bin = label_binarize(y_test, classes=np.unique(y_test))\n",
        "    roc_auc = roc_auc_score(y_test_bin, y_proba, multi_class='ovo', average='weighted')\n",
        "\n",
        "    # Exibindo retornos\n",
        "    test_metrics['ACURACIA'] = accuracy\n",
        "    test_metrics['PRECISAO'] = precision\n",
        "    test_metrics['REVOCACAO'] = recall\n",
        "    test_metrics['F1'] = f1\n",
        "    test_metrics['Fbeta_2'] = fbeta\n",
        "    test_metrics['ROC_AUC'] = roc_auc\n",
        "\n",
        "    print(f\"ACURÁCIA no conjunto de teste: {accuracy}\")\n",
        "    print(f\"PRECISÃO no conjunto de teste: {precision}\")\n",
        "    print(f\"REVOCAÇÃO no conjunto de teste: {recall}\")\n",
        "    print(f\"F1 no conjunto de teste: {f1}\")\n",
        "    print(f\"Fbeta no conjunto de teste (com beta = 2): {fbeta}\")\n",
        "    print(f\"Área sob a curva ROC no conjunto de teste: {roc_auc}\")\n",
        "\n",
        "    print('Matriz de confusão:')\n",
        "    conf_matrix = confusion_matrix(y_test, y_pred, labels=[1, 2, 3])\n",
        "\n",
        "    plt.figure(figsize=(8, 6))\n",
        "    sns.heatmap(conf_matrix, annot=True, fmt=\"d\", xticklabels=[\"1\", \"2\", \"3\"], yticklabels=[\"1\", \"2\", \"3\"])\n",
        "    plt.title('Matriz de Confusão')\n",
        "    plt.tight_layout()\n",
        "    plt.show()\n",
        "\n",
        "    print('Area sob a curva ROC por classe:')\n",
        "\n",
        "    plt.figure(figsize=(8, 6))\n",
        "    for i in range(y_test_bin.shape[1]):\n",
        "        fpr, tpr, _ = roc_curve(y_test_bin[:, i], y_proba[:, i])\n",
        "        plt.plot(fpr, tpr, marker='.', label=f'NSP {i + 1}')\n",
        "\n",
        "    plt.xlabel('Falso positivo')\n",
        "    plt.ylabel('Positivos')\n",
        "    plt.title('Curva ROC para cada NSP')\n",
        "    plt.legend(loc='best')\n",
        "    plt.tight_layout()\n",
        "    plt.show()\n",
        "\n",
        "    return test_metrics"
      ]
    },
    {
      "cell_type": "code",
      "execution_count": 8,
      "metadata": {
        "id": "tIhl1pm1a7vL"
      },
      "outputs": [],
      "source": [
        "fbeta_scorer = make_scorer(fbeta_score, beta=2, average='weighted')"
      ]
    },
    {
      "cell_type": "code",
      "execution_count": 9,
      "metadata": {
        "id": "PGEF0msxa7LS"
      },
      "outputs": [],
      "source": [
        "scores = {'ACURACIA': 'accuracy',\n",
        "          'PRECISAO': 'precision_weighted',\n",
        "          'REVOCACAO': 'recall_weighted',\n",
        "          'F1': 'f1_weighted',\n",
        "          'Fbeta_2': fbeta_scorer,\n",
        "          'ROC_AUC': 'roc_auc_ovo_weighted'}"
      ]
    },
    {
      "cell_type": "code",
      "execution_count": 10,
      "metadata": {
        "id": "Q21CzuqabF8v"
      },
      "outputs": [],
      "source": [
        "experiment_mapping = {\n",
        "    'KNN': 'KNN',\n",
        "    'DecisionTree': 'Decision Tree',\n",
        "    'MLP': 'MLP',\n",
        "    'NaiveBayes': 'Naive Bayes',\n",
        "    'SVM': 'SVM',\n",
        "    'RandomForest': 'Random Forest',\n",
        "    'LogisticRegression': 'Logistic Regression'\n",
        "}"
      ]
    },
    {
      "cell_type": "code",
      "execution_count": 11,
      "metadata": {
        "id": "6iZvHWzSTLHT"
      },
      "outputs": [],
      "source": [
        "classifiers = {\n",
        "    'KNN': {\n",
        "        'model': KNeighborsClassifier(),\n",
        "        'param_grid': {\n",
        "            'n_neighbors': [3, 5, 8, 10, 12, 15, 18, 20, 21, 22, 25],\n",
        "            'weights': ['uniform', 'distance']\n",
        "        }\n",
        "    },\n",
        "    'DecisionTree': {\n",
        "        'model': DecisionTreeClassifier(),\n",
        "        'param_grid': {\n",
        "            'criterion': ['gini', 'entropy'],\n",
        "            'max_depth': [None, 10, 20, 30, 40, 50]\n",
        "        }\n",
        "    },\n",
        "    'MLP': {\n",
        "        'model': MLPClassifier(max_iter=1000),\n",
        "        'param_grid': {\n",
        "            'hidden_layer_sizes': [(50,50), (100,)],\n",
        "            'activation': ['tanh', 'relu'],\n",
        "            'solver': ['sgd', 'adam'],\n",
        "            'alpha': [0.0001, 0.05],\n",
        "            'learning_rate': ['constant','adaptive'],\n",
        "        }\n",
        "    },\n",
        "    'NaiveBayes': {\n",
        "        'model': GaussianNB(),\n",
        "        'param_grid': {\n",
        "            'var_smoothing': [1e-09, 1e-08, 1e-07]\n",
        "        }\n",
        "    },\n",
        "    'SVM': {\n",
        "        'model': SVC(probability=True),\n",
        "        'param_grid': {\n",
        "            'C': [0.1, 1, 10, 100],\n",
        "            'gamma': [1, 0.1, 0.01, 0.001],\n",
        "            'kernel': ['linear', 'rbf', 'poly', 'sigmoid']\n",
        "        }\n",
        "    },\n",
        "    'RandomForest': {\n",
        "        'model': RandomForestClassifier(),\n",
        "        'param_grid': {\n",
        "            'n_estimators': [10, 50, 100, 200],\n",
        "            'max_depth': [None, 10, 20, 30],\n",
        "            'criterion': ['gini', 'entropy']\n",
        "        }\n",
        "    },\n",
        "    'LogisticRegression': {\n",
        "        'model': LogisticRegression(),\n",
        "        'param_grid': {\n",
        "            'C': [0.01, 0.1, 1, 10, 100],\n",
        "            'penalty': ['l1', 'l2', 'elasticnet', 'none'],\n",
        "            'solver': ['liblinear', 'saga', 'lbfgs', 'newton-cg', 'sag'],\n",
        "            'max_iter': [100, 200, 300]\n",
        "        }\n",
        "    }\n",
        "}"
      ]
    },
    {
      "cell_type": "markdown",
      "metadata": {
        "id": "cLaiVzF0TLHV"
      },
      "source": [
        "# Modelos"
      ]
    },
    {
      "cell_type": "markdown",
      "metadata": {
        "id": "Ihc8HYZDTLHX"
      },
      "source": [
        "Para cada modelos vamos gerar o melhor conjunto de hiperparâmetros considerando cada métrica."
      ]
    },
    {
      "cell_type": "code",
      "execution_count": 12,
      "metadata": {
        "colab": {
          "base_uri": "https://localhost:8080/",
          "height": 1000
        },
        "id": "LJ3iri1cTLHX",
        "outputId": "533b562f-9514-49cd-9270-73be9f5e75b4"
      },
      "outputs": [],
      "source": [
        "get_ipython().system_raw(\"mlflow ui --port 5000 &\")\n",
        "for clf_name, clf_info in classifiers.items():\n",
        "    # experimento MLflow\n",
        "    mlflow.set_experiment(experiment_mapping[clf_name])\n",
        "\n",
        "    print(f\"=== Treinando {clf_name} ===\")\n",
        "\n",
        "    for score_name, score_metric in scores.items():\n",
        "        with mlflow.start_run(run_name=f\"{clf_name}_{score_name}\"):\n",
        "            grid_search = GridSearchCV(\n",
        "                estimator=clf_info['model'],\n",
        "                param_grid=clf_info['param_grid'],\n",
        "                cv=10,\n",
        "                n_jobs=-1,\n",
        "                verbose=1,\n",
        "                scoring=score_metric\n",
        "            )\n",
        "\n",
        "            grid_search.fit(X_train, y_train)\n",
        "\n",
        "            # registra parametros\n",
        "            mlflow.log_params(grid_search.best_params_)\n",
        "\n",
        "            # registra métricas do treinamento\n",
        "            mlflow.log_metric(f\"best_train_{score_name}\", grid_search.best_score_)\n",
        "            print(f\"Melhor {score_name} no conjunto de treinamento: {grid_search.best_score_}\")\n",
        "\n",
        "            # avaliação no conjunto de testes\n",
        "            test_metrics = evaluate_best_model(grid_search, X_test, y_test)\n",
        "            for metric_name, metric_value in test_metrics.items():\n",
        "                mlflow.log_metric(f\"test_{metric_name}\", metric_value)\n",
        "\n",
        "            # Salvar métricas em CSV\n",
        "            metrics_data = {\n",
        "                \"clf_name\": clf_name,\n",
        "                \"score_name\": score_name,\n",
        "                \"best_params\": grid_search.best_params_,\n",
        "                \"best_train_score\": grid_search.best_score_,\n",
        "                **test_metrics\n",
        "            }\n",
        "            df_metrics = pd.DataFrame([metrics_data])\n",
        "            output_csv_path = f\"./metrics_{clf_name}_{score_name}.csv\"\n",
        "            df_metrics.to_csv(output_csv_path, index=False)\n",
        "\n",
        "            signature = infer_signature(X_train, grid_search.predict(X_train))\n",
        "            mlflow.sklearn.log_model(grid_search.best_estimator_, f\"{clf_name}_model\", signature=signature)\n",
        "\n",
        "            # Optional: Log artifacts, e.g., plots, if any\n",
        "            # mlflow.log_artifact(\"path_to_artifact\")\n",
        "\n",
        "            mlflow.end_run()\n",
        "\n",
        "    experiment_id = mlflow.get_experiment_by_name(experiment_mapping[clf_name]).experiment_id\n",
        "\n",
        "    # Busca todas as execuções (runs) do experimento\n",
        "    runs_df = mlflow.search_runs(experiment_ids=experiment_id)\n",
        "\n",
        "    # Salva todas as execuções em um arquivo CSV\n",
        "    output_csv_path = f\"./runs_{clf_name}.csv\"\n",
        "    runs_df.to_csv(output_csv_path, index=False)\n"
      ]
    },
    {
      "cell_type": "markdown",
      "metadata": {
        "id": "hIMiqY_2TLHY"
      },
      "source": [
        "### Recuperando dados para análise"
      ]
    },
    {
      "cell_type": "code",
      "execution_count": null,
      "metadata": {
        "colab": {
          "base_uri": "https://localhost:8080/"
        },
        "id": "SbADcQ7JiU54",
        "outputId": "7fc0e0eb-c0f4-41ae-a9e5-98f2aae7d0ea"
      },
      "outputs": [
        {
          "name": "stdout",
          "output_type": "stream",
          "text": [
            "MLflow Tracking UI: https://ce9e-35-194-31-197.ngrok-free.app\n"
          ]
        }
      ],
      "source": [
        "ngrok.kill()\n",
        "NGROK_AUTH_TOKEN = \"\"\n",
        "ngrok.set_auth_token(NGROK_AUTH_TOKEN)\n",
        "ngrok_tunnel = ngrok.connect(addr=\"5000\", proto=\"http\", bind_tls=True)\n",
        "print(\"MLflow Tracking UI:\", ngrok_tunnel.public_url)"
      ]
    }
  ],
  "metadata": {
    "accelerator": "TPU",
    "colab": {
      "gpuType": "V28",
      "provenance": []
    },
    "kernelspec": {
      "display_name": "Python 3",
      "name": "python3"
    },
    "language_info": {
      "codemirror_mode": {
        "name": "ipython",
        "version": 3
      },
      "file_extension": ".py",
      "mimetype": "text/x-python",
      "name": "python",
      "nbconvert_exporter": "python",
      "pygments_lexer": "ipython3",
      "version": "3.12.2"
    }
  },
  "nbformat": 4,
  "nbformat_minor": 0
}
