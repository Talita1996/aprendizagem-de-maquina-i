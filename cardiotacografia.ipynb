{
 "cells": [
  {
   "cell_type": "code",
   "execution_count": 91,
   "metadata": {},
   "outputs": [
    {
     "name": "stdout",
     "output_type": "stream",
     "text": [
      "{'uci_id': 193, 'name': 'Cardiotocography', 'repository_url': 'https://archive.ics.uci.edu/dataset/193/cardiotocography', 'data_url': 'https://archive.ics.uci.edu/static/public/193/data.csv', 'abstract': 'The dataset consists of measurements of fetal heart rate (FHR) and uterine contraction (UC) features on cardiotocograms classified by expert obstetricians.', 'area': 'Health and Medicine', 'tasks': ['Classification'], 'characteristics': ['Multivariate'], 'num_instances': 2126, 'num_features': 21, 'feature_types': ['Real'], 'demographics': [], 'target_col': ['CLASS', 'NSP'], 'index_col': None, 'has_missing_values': 'no', 'missing_values_symbol': None, 'year_of_dataset_creation': 2000, 'last_updated': 'Fri Mar 15 2024', 'dataset_doi': '10.24432/C51S4N', 'creators': ['D. Campos', 'J. Bernardes'], 'intro_paper': None, 'additional_info': {'summary': '2126 fetal cardiotocograms (CTGs) were automatically processed and the respective diagnostic features measured. The CTGs were also classified by three expert obstetricians and a consensus classification label assigned to each of them. Classification was both with respect to a morphologic pattern (A, B, C. ...) and to a fetal state (N, S, P). Therefore the dataset can be used either for 10-class or 3-class experiments.', 'purpose': None, 'funded_by': None, 'instances_represent': None, 'recommended_data_splits': None, 'sensitive_data': None, 'preprocessing_description': None, 'variable_info': 'LB - FHR baseline (beats per minute)\\r\\nAC - # of accelerations per second\\r\\nFM - # of fetal movements per second\\r\\nUC - # of uterine contractions per second\\r\\nDL - # of light decelerations per second\\r\\nDS - # of severe decelerations per second\\r\\nDP - # of prolongued decelerations per second\\r\\nASTV - percentage of time with abnormal short term variability\\r\\nMSTV - mean value of short term variability\\r\\nALTV - percentage of time with abnormal long term variability\\r\\nMLTV - mean value of long term variability\\r\\nWidth - width of FHR histogram\\r\\nMin - minimum of FHR histogram\\r\\nMax - Maximum of FHR histogram\\r\\nNmax - # of histogram peaks\\r\\nNzeros - # of histogram zeros\\r\\nMode - histogram mode\\r\\nMean - histogram mean\\r\\nMedian - histogram median\\r\\nVariance - histogram variance\\r\\nTendency - histogram tendency\\r\\nCLASS - FHR pattern class code (1 to 10) \\r\\nNSP - fetal state class code (N=normal; S=suspect; P=pathologic)', 'citation': None}}\n",
      "        name     role        type demographic description units missing_values\n",
      "0         LB  Feature     Integer        None        None  None             no\n",
      "1         AC  Feature  Continuous        None        None  None             no\n",
      "2         FM  Feature  Continuous        None        None  None             no\n",
      "3         UC  Feature  Continuous        None        None  None             no\n",
      "4         DL  Feature  Continuous        None        None  None             no\n",
      "5         DS  Feature  Continuous        None        None  None             no\n",
      "6         DP  Feature  Continuous        None        None  None             no\n",
      "7       ASTV  Feature     Integer        None        None  None             no\n",
      "8       MSTV  Feature  Continuous        None        None  None             no\n",
      "9       ALTV  Feature     Integer        None        None  None             no\n",
      "10      MLTV  Feature  Continuous        None        None  None             no\n",
      "11     Width  Feature     Integer        None        None  None             no\n",
      "12       Min  Feature     Integer        None        None  None             no\n",
      "13       Max  Feature     Integer        None        None  None             no\n",
      "14      Nmax  Feature     Integer        None        None  None             no\n",
      "15    Nzeros  Feature     Integer        None        None  None             no\n",
      "16      Mode  Feature     Integer        None        None  None             no\n",
      "17      Mean  Feature     Integer        None        None  None             no\n",
      "18    Median  Feature     Integer        None        None  None             no\n",
      "19  Variance  Feature     Integer        None        None  None             no\n",
      "20  Tendency  Feature     Integer        None        None  None             no\n",
      "21     CLASS   Target     Integer        None        None  None             no\n",
      "22       NSP   Target     Integer        None        None  None             no\n"
     ]
    }
   ],
   "source": [
    "from ucimlrepo import fetch_ucirepo \n",
    "  \n",
    "# fetch dataset \n",
    "cardiotocography = fetch_ucirepo(id=193) \n",
    "  \n",
    "# data (as pandas dataframes) \n",
    "X = cardiotocography.data.features \n",
    "y = cardiotocography.data.targets \n",
    "  \n",
    "# metadata \n",
    "print(cardiotocography.metadata) \n",
    "  \n",
    "# variable information \n",
    "print(cardiotocography.variables) \n"
   ]
  },
  {
   "cell_type": "markdown",
   "metadata": {},
   "source": [
    "Para o NSP: normal=1; suspeito=2; patológico=3"
   ]
  },
  {
   "cell_type": "code",
   "execution_count": 92,
   "metadata": {},
   "outputs": [
    {
     "data": {
      "text/html": [
       "<div>\n",
       "<style scoped>\n",
       "    .dataframe tbody tr th:only-of-type {\n",
       "        vertical-align: middle;\n",
       "    }\n",
       "\n",
       "    .dataframe tbody tr th {\n",
       "        vertical-align: top;\n",
       "    }\n",
       "\n",
       "    .dataframe thead th {\n",
       "        text-align: right;\n",
       "    }\n",
       "</style>\n",
       "<table border=\"1\" class=\"dataframe\">\n",
       "  <thead>\n",
       "    <tr style=\"text-align: right;\">\n",
       "      <th></th>\n",
       "      <th>LB</th>\n",
       "      <th>AC</th>\n",
       "      <th>FM</th>\n",
       "      <th>UC</th>\n",
       "      <th>DL</th>\n",
       "      <th>DS</th>\n",
       "      <th>DP</th>\n",
       "      <th>ASTV</th>\n",
       "      <th>MSTV</th>\n",
       "      <th>ALTV</th>\n",
       "      <th>...</th>\n",
       "      <th>Max</th>\n",
       "      <th>Nmax</th>\n",
       "      <th>Nzeros</th>\n",
       "      <th>Mode</th>\n",
       "      <th>Mean</th>\n",
       "      <th>Median</th>\n",
       "      <th>Variance</th>\n",
       "      <th>Tendency</th>\n",
       "      <th>CLASS</th>\n",
       "      <th>NSP</th>\n",
       "    </tr>\n",
       "  </thead>\n",
       "  <tbody>\n",
       "    <tr>\n",
       "      <th>0</th>\n",
       "      <td>120</td>\n",
       "      <td>0.000</td>\n",
       "      <td>0.0</td>\n",
       "      <td>0.000</td>\n",
       "      <td>0.000</td>\n",
       "      <td>0.0</td>\n",
       "      <td>0.0</td>\n",
       "      <td>73</td>\n",
       "      <td>0.5</td>\n",
       "      <td>43</td>\n",
       "      <td>...</td>\n",
       "      <td>126</td>\n",
       "      <td>2</td>\n",
       "      <td>0</td>\n",
       "      <td>120</td>\n",
       "      <td>137</td>\n",
       "      <td>121</td>\n",
       "      <td>73</td>\n",
       "      <td>1</td>\n",
       "      <td>9</td>\n",
       "      <td>2</td>\n",
       "    </tr>\n",
       "    <tr>\n",
       "      <th>1</th>\n",
       "      <td>132</td>\n",
       "      <td>0.006</td>\n",
       "      <td>0.0</td>\n",
       "      <td>0.006</td>\n",
       "      <td>0.003</td>\n",
       "      <td>0.0</td>\n",
       "      <td>0.0</td>\n",
       "      <td>17</td>\n",
       "      <td>2.1</td>\n",
       "      <td>0</td>\n",
       "      <td>...</td>\n",
       "      <td>198</td>\n",
       "      <td>6</td>\n",
       "      <td>1</td>\n",
       "      <td>141</td>\n",
       "      <td>136</td>\n",
       "      <td>140</td>\n",
       "      <td>12</td>\n",
       "      <td>0</td>\n",
       "      <td>6</td>\n",
       "      <td>1</td>\n",
       "    </tr>\n",
       "    <tr>\n",
       "      <th>2</th>\n",
       "      <td>133</td>\n",
       "      <td>0.003</td>\n",
       "      <td>0.0</td>\n",
       "      <td>0.008</td>\n",
       "      <td>0.003</td>\n",
       "      <td>0.0</td>\n",
       "      <td>0.0</td>\n",
       "      <td>16</td>\n",
       "      <td>2.1</td>\n",
       "      <td>0</td>\n",
       "      <td>...</td>\n",
       "      <td>198</td>\n",
       "      <td>5</td>\n",
       "      <td>1</td>\n",
       "      <td>141</td>\n",
       "      <td>135</td>\n",
       "      <td>138</td>\n",
       "      <td>13</td>\n",
       "      <td>0</td>\n",
       "      <td>6</td>\n",
       "      <td>1</td>\n",
       "    </tr>\n",
       "    <tr>\n",
       "      <th>3</th>\n",
       "      <td>134</td>\n",
       "      <td>0.003</td>\n",
       "      <td>0.0</td>\n",
       "      <td>0.008</td>\n",
       "      <td>0.003</td>\n",
       "      <td>0.0</td>\n",
       "      <td>0.0</td>\n",
       "      <td>16</td>\n",
       "      <td>2.4</td>\n",
       "      <td>0</td>\n",
       "      <td>...</td>\n",
       "      <td>170</td>\n",
       "      <td>11</td>\n",
       "      <td>0</td>\n",
       "      <td>137</td>\n",
       "      <td>134</td>\n",
       "      <td>137</td>\n",
       "      <td>13</td>\n",
       "      <td>1</td>\n",
       "      <td>6</td>\n",
       "      <td>1</td>\n",
       "    </tr>\n",
       "    <tr>\n",
       "      <th>4</th>\n",
       "      <td>132</td>\n",
       "      <td>0.007</td>\n",
       "      <td>0.0</td>\n",
       "      <td>0.008</td>\n",
       "      <td>0.000</td>\n",
       "      <td>0.0</td>\n",
       "      <td>0.0</td>\n",
       "      <td>16</td>\n",
       "      <td>2.4</td>\n",
       "      <td>0</td>\n",
       "      <td>...</td>\n",
       "      <td>170</td>\n",
       "      <td>9</td>\n",
       "      <td>0</td>\n",
       "      <td>137</td>\n",
       "      <td>136</td>\n",
       "      <td>138</td>\n",
       "      <td>11</td>\n",
       "      <td>1</td>\n",
       "      <td>2</td>\n",
       "      <td>1</td>\n",
       "    </tr>\n",
       "  </tbody>\n",
       "</table>\n",
       "<p>5 rows × 23 columns</p>\n",
       "</div>"
      ],
      "text/plain": [
       "    LB     AC   FM     UC     DL   DS   DP  ASTV  MSTV  ALTV  ...  Max  Nmax  \\\n",
       "0  120  0.000  0.0  0.000  0.000  0.0  0.0    73   0.5    43  ...  126     2   \n",
       "1  132  0.006  0.0  0.006  0.003  0.0  0.0    17   2.1     0  ...  198     6   \n",
       "2  133  0.003  0.0  0.008  0.003  0.0  0.0    16   2.1     0  ...  198     5   \n",
       "3  134  0.003  0.0  0.008  0.003  0.0  0.0    16   2.4     0  ...  170    11   \n",
       "4  132  0.007  0.0  0.008  0.000  0.0  0.0    16   2.4     0  ...  170     9   \n",
       "\n",
       "   Nzeros  Mode  Mean  Median  Variance  Tendency  CLASS  NSP  \n",
       "0       0   120   137     121        73         1      9    2  \n",
       "1       1   141   136     140        12         0      6    1  \n",
       "2       1   141   135     138        13         0      6    1  \n",
       "3       0   137   134     137        13         1      6    1  \n",
       "4       0   137   136     138        11         1      2    1  \n",
       "\n",
       "[5 rows x 23 columns]"
      ]
     },
     "execution_count": 92,
     "metadata": {},
     "output_type": "execute_result"
    }
   ],
   "source": [
    "import pandas as pd\n",
    "from sklearn.model_selection import train_test_split\n",
    "\n",
    "df = pd.concat([X, y], axis=1)\n",
    "\n",
    "df.head()"
   ]
  },
  {
   "cell_type": "markdown",
   "metadata": {},
   "source": [
    "# Vizualização dos dados"
   ]
  },
  {
   "cell_type": "code",
   "execution_count": 93,
   "metadata": {},
   "outputs": [
    {
     "data": {
      "text/plain": [
       "<Axes: xlabel='NSP', ylabel='Count'>"
      ]
     },
     "execution_count": 93,
     "metadata": {},
     "output_type": "execute_result"
    },
    {
     "data": {
      "image/png": "[encoded data removed]",
      "text/plain": [
       "<Figure size 640x480 with 1 Axes>"
      ]
     },
     "metadata": {},
     "output_type": "display_data"
    }
   ],
   "source": [
    "import seaborn as sns\n",
    "\n",
    "sns.histplot(data=df, x=\"NSP\")\n",
    "sns.histplot(data=df, x=\"CLASS\")"
   ]
  },
  {
   "cell_type": "markdown",
   "metadata": {},
   "source": [
    "Não há uma distribuição normal e a base está bastante desbalanceada para o nosso target (NSP)."
   ]
  },
  {
   "cell_type": "code",
   "execution_count": 94,
   "metadata": {},
   "outputs": [
    {
     "data": {
      "text/plain": [
       "<Axes: xlabel='CLASS', ylabel='NSP'>"
      ]
     },
     "execution_count": 94,
     "metadata": {},
     "output_type": "execute_result"
    },
    {
     "data": {
      "image/png": "[encoded data removed]",
      "text/plain": [
       "<Figure size 640x480 with 1 Axes>"
      ]
     },
     "metadata": {},
     "output_type": "display_data"
    }
   ],
   "source": [
    "sns.scatterplot(x=\"CLASS\", y=\"NSP\", data=df)"
   ]
  },
  {
   "cell_type": "code",
   "execution_count": 95,
   "metadata": {},
   "outputs": [
    {
     "data": {
      "application/vnd.plotly.v1+json": {
       "config": {
        "plotlyServerURL": "https://plot.ly"
       },
       "data": [
        {
         "coloraxis": "coloraxis",
         "hovertemplate": "x: %{x}<br>y: %{y}<br>Correlation: %{z}<extra></extra>",
         "name": "0",
         "type": "heatmap",
         "x": [
          "LB",
          "AC",
          "FM",
          "UC",
          "DL",
          "DS",
          "DP",
          "ASTV",
          "MSTV",
          "ALTV",
          "MLTV",
          "Width",
          "Min",
          "Max",
          "Nmax",
          "Nzeros",
          "Mode",
          "Mean",
          "Median",
          "Variance",
          "Tendency",
          "CLASS",
          "NSP"
         ],
         "xaxis": "x",
         "y": [
          "LB",
          "AC",
          "FM",
          "UC",
          "DL",
          "DS",
          "DP",
          "ASTV",
          "MSTV",
          "ALTV",
          "MLTV",
          "Width",
          "Min",
          "Max",
          "Nmax",
          "Nzeros",
          "Mode",
          "Mean",
          "Median",
          "Variance",
          "Tendency",
          "CLASS",
          "NSP"
         ],
         "yaxis": "y",
         "z": [
          [
           1,
           -0.11349141248588523,
           -0.022442877874074913,
           -0.13408217958244037,
           -0.1743915178708419,
           -0.05974836337698654,
           -0.1409790009954701,
           0.3171715630161602,
           -0.36727723235108045,
           0.34011944665380417,
           -0.05538873957706332,
           -0.15497167270448972,
           0.35808535235277483,
           0.3261423102209001,
           -0.12094954985406556,
           -0.0653505748307182,
           0.8181666720500294,
           0.7881622042194097,
           0.8405328044222752,
           -0.2391636346569855,
           0.28629241864007293,
           0.11403450643303736,
           0.22130045411478824
          ],
          [
           -0.11349141248588523,
           1,
           0.05219266221537559,
           0.12031489070471452,
           -0.011841455916343491,
           -0.050695105899611105,
           -0.11646941609769543,
           -0.3442327192369971,
           0.3268103004804901,
           -0.49078488756943744,
           -0.10216969786031102,
           0.3521752438007253,
           -0.16716633655504295,
           0.46982362169320296,
           0.23782654840992795,
           0.0011298405768122705,
           0.18728525522063627,
           0.21026807601135025,
           0.20946035547620573,
           0.3913579082537769,
           -0.02361390461347524,
           -0.23894674558142337,
           -0.4555291981182116
          ],
          [
           -0.022442877874074913,
           0.05219266221537559,
           1,
           -0.31044441885596813,
           0.03492080452131641,
           0.0014915613208865974,
           0.12324965609365,
           0.2604501991398248,
           0.07050408577582831,
           -0.07477189809200388,
           -0.11430867525384625,
           0.18839048284606186,
           -0.1798062449611861,
           0.11628005262291577,
           0.19260352114926435,
           -0.09322834255868709,
           -0.03536373961312005,
           -0.0802974385396227,
           -0.04146321701557107,
           0.11470428153004313,
           0.003120738100403668,
           0.14665288270755517,
           0.11425783802684437
          ],
          [
           -0.13408217958244037,
           0.12031489070471452,
           -0.31044441885596813,
           1,
           0.30345288458982017,
           0.00598365528845089,
           0.12603282189105755,
           -0.2175737764099617,
           0.32745609400674225,
           -0.28252516566471697,
           -0.06736118724422653,
           0.1387497411530696,
           -0.10361915570296001,
           0.11267465968072601,
           0.11847897698007782,
           0.060596061194725215,
           -0.0885786521640818,
           -0.17096176736415725,
           -0.13500051738076294,
           0.2773933598107772,
           -0.08049335949611025,
           -0.07747547682112513,
           -0.2560525972758143
          ],
          [
           -0.1743915178708419,
           -0.011841455916343491,
           0.03492080452131641,
           0.30345288458982017,
           1,
           0.06236942927352793,
           0.32679617224053786,
           -0.15319621538959244,
           0.617292130667053,
           -0.3852975111648207,
           -0.2504658249573249,
           0.583554593261156,
           -0.6021129542933543,
           0.23290673790943564,
           0.4819923157591775,
           0.27644091584344244,
           -0.25175854236594725,
           -0.46982383299319785,
           -0.3295980848322102,
           0.7129764212851892,
           0.06996225826441142,
           0.44365593141667303,
           -0.04620307677309772
          ],
          [
           -0.05974836337698654,
           -0.050695105899611105,
           0.0014915613208865974,
           0.00598365528845089,
           0.06236942927352793,
           1,
           0.03886008636904618,
           0.04118689684365577,
           0.052496425737759526,
           -0.04634014439096595,
           -0.03789439368535307,
           0.05100157577715501,
           -0.07442658152075708,
           -0.02151702828933183,
           0.016096417081201443,
           0.06238197777099328,
           -0.09751579313529067,
           -0.0913040293884015,
           -0.08700391827028402,
           0.09169177816960995,
           -0.054448530364340254,
           0.06438040483360385,
           0.10366598585966588
          ],
          [
           -0.1409790009954701,
           -0.11646941609769543,
           0.12324965609365,
           0.12603282189105755,
           0.32679617224053786,
           0.03886008636904618,
           1,
           0.03034008564795019,
           0.30055642381012315,
           -0.21853924550585907,
           -0.23770433801216098,
           0.28736635800286786,
           -0.3104556974731749,
           0.10540181814937187,
           0.24108160057095415,
           0.08045345981152198,
           -0.31144633352803514,
           -0.4045172257816055,
           -0.35842065780627064,
           0.3800578034150851,
           -0.1736885025797183,
           0.29692213398667255,
           0.34125337253625504
          ],
          [
           0.3171715630161602,
           -0.3442327192369971,
           0.2604501991398248,
           -0.2175737764099617,
           -0.15319621538959244,
           0.04118689684365577,
           0.03034008564795019,
           1,
           -0.5205587561157865,
           0.4250702157812238,
           -0.3377245955778988,
           -0.27883284127259433,
           0.26946464216420085,
           -0.1261715764060148,
           -0.16561903713148515,
           -0.1742364010287429,
           0.12560671147298624,
           0.13663775604898817,
           0.16353407339322287,
           -0.34450293622062933,
           0.0011877590378523441,
           0.24392658401010117,
           0.49994446281132143
          ],
          [
           -0.36727723235108045,
           0.3268103004804901,
           0.07050408577582831,
           0.32745609400674225,
           0.617292130667053,
           0.052496425737759526,
           0.30055642381012315,
           -0.5205587561157865,
           1,
           -0.6851630210963526,
           -0.019790744050733482,
           0.7143116448774525,
           -0.6953844832195776,
           0.3724453104924075,
           0.5517828007445794,
           0.2964146710791859,
           -0.31335182632141684,
           -0.45963633765528855,
           -0.3586507814721781,
           0.7786041750212352,
           -0.042131597978386184,
           0.08972045242788937,
           -0.2948351082100965
          ],
          [
           0.34011944665380417,
           -0.49078488756943744,
           -0.07477189809200388,
           -0.28252516566471697,
           -0.3852975111648207,
           -0.04634014439096595,
           -0.21853924550585907,
           0.4250702157812238,
           -0.6851630210963526,
           1,
           -0.0433477090180016,
           -0.5263413395935544,
           0.4653032973992829,
           -0.32087139085300104,
           -0.3585276129659886,
           -0.16520584814614167,
           0.22223503989831556,
           0.29171730953762653,
           0.24517044723849932,
           -0.6500242018267323,
           0.07375191907944721,
           0.06620157328720384,
           0.38696593356845926
          ],
          [
           -0.05538873957706332,
           -0.10216969786031102,
           -0.11430867525384625,
           -0.06736118724422653,
           -0.2504658249573249,
           -0.03789439368535307,
           -0.23770433801216098,
           -0.3377245955778988,
           -0.019790744050733482,
           -0.0433477090180016,
           1,
           0.0477469864720915,
           -0.0806195732894585,
           -0.04642667106335418,
           -0.002247972869483388,
           0.0720823560052147,
           0.0019367782214477723,
           0.07704608085219271,
           0.010959239432583773,
           -0.09337654944338267,
           0.126598513920419,
           -0.26343410426756947,
           -0.20174648592055772
          ],
          [
           -0.15497167270448972,
           0.3521752438007253,
           0.18839048284606186,
           0.1387497411530696,
           0.583554593261156,
           0.05100157577715501,
           0.28736635800286786,
           -0.27883284127259433,
           0.7143116448774525,
           -0.5263413395935544,
           0.0477469864720915,
           1,
           -0.9045168664159992,
           0.649306068724125,
           0.77500713953616,
           0.3316073184860852,
           -0.1029069474679893,
           -0.23360038740970201,
           -0.13519562697439377,
           0.8301168390940615,
           0.15891886859350543,
           0.21078578353996733,
           -0.14879767613307726
          ],
          [
           0.35808535235277483,
           -0.16716633655504295,
           -0.1798062449611861,
           -0.10361915570296001,
           -0.6021129542933543,
           -0.07442658152075708,
           -0.3104556974731749,
           0.26946464216420085,
           -0.6953844832195776,
           0.4653032973992829,
           -0.0806195732894585,
           -0.9045168664159992,
           1,
           -0.2922142006351414,
           -0.6996741316593628,
           -0.32704162872354353,
           0.3459394401309432,
           0.47140066636209077,
           0.38671754129960606,
           -0.7509945351329088,
           -0.24790254860510452,
           -0.21475576826544918,
           0.12526711820415834
          ],
          [
           0.3261423102209001,
           0.46982362169320296,
           0.11628005262291577,
           0.11267465968072601,
           0.23290673790943564,
           -0.02151702828933183,
           0.10540181814937187,
           -0.1261715764060148,
           0.3724453104924075,
           -0.32087139085300104,
           -0.04642667106335418,
           0.649306068724125,
           -0.2922142006351414,
           1,
           0.5017598417981802,
           0.16829635719943367,
           0.4118422401595985,
           0.3424268453013025,
           0.4126230201014456,
           0.5270160687068786,
           -0.09212526950073784,
           0.10311342471249856,
           -0.06438415327322686
          ],
          [
           -0.12094954985406556,
           0.23782654840992795,
           0.19260352114926435,
           0.11847897698007782,
           0.4819923157591775,
           0.016096417081201443,
           0.24108160057095415,
           -0.16561903713148515,
           0.5517828007445794,
           -0.3585276129659886,
           -0.002247972869483388,
           0.77500713953616,
           -0.6996741316593628,
           0.5017598417981802,
           1,
           0.2929030765675706,
           -0.0715986977455231,
           -0.1913932155417005,
           -0.10562959252030951,
           0.6471166780696073,
           0.15285091816889834,
           0.19142941187681262,
           -0.08147183124927018
          ],
          [
           -0.0653505748307182,
           0.0011298405768122705,
           -0.09322834255868709,
           0.060596061194725215,
           0.27644091584344244,
           0.06238197777099328,
           0.08045345981152198,
           -0.1742364010287429,
           0.2964146710791859,
           -0.16520584814614167,
           0.0720823560052147,
           0.3316073184860852,
           -0.32704162872354353,
           0.16829635719943367,
           0.2929030765675706,
           1,
           -0.07275515342570434,
           -0.11640729311978487,
           -0.07438319420332284,
           0.30235055028688,
           0.07297577957812537,
           0.12361866894466976,
           -0.048610474349904516
          ],
          [
           0.8181666720500294,
           0.18728525522063627,
           -0.03536373961312005,
           -0.0885786521640818,
           -0.25175854236594725,
           -0.09751579313529067,
           -0.31144633352803514,
           0.12560671147298624,
           -0.31335182632141684,
           0.22223503989831556,
           0.0019367782214477723,
           -0.1029069474679893,
           0.3459394401309432,
           0.4118422401595985,
           -0.0715986977455231,
           -0.07275515342570434,
           1,
           0.908465670435352,
           0.9611819943530441,
           -0.15241953012615306,
           0.36233356259733496,
           -0.028330250414218088,
           -0.006337084302266977
          ],
          [
           0.7881622042194097,
           0.21026807601135025,
           -0.0802974385396227,
           -0.17096176736415725,
           -0.46982383299319785,
           -0.0913040293884015,
           -0.4045172257816055,
           0.13663775604898817,
           -0.45963633765528855,
           0.29171730953762653,
           0.07704608085219271,
           -0.23360038740970201,
           0.47140066636209077,
           0.3424268453013025,
           -0.1913932155417005,
           -0.11640729311978487,
           0.908465670435352,
           1,
           0.9577579431126868,
           -0.32500030807144914,
           0.2740360370114169,
           -0.14246455248373732,
           0.013464636782978068
          ],
          [
           0.8405328044222752,
           0.20946035547620573,
           -0.04146321701557107,
           -0.13500051738076294,
           -0.3295980848322102,
           -0.08700391827028402,
           -0.35842065780627064,
           0.16353407339322287,
           -0.3586507814721781,
           0.24517044723849932,
           0.010959239432583773,
           -0.13519562697439377,
           0.38671754129960606,
           0.4126230201014456,
           -0.10562959252030951,
           -0.07438319420332284,
           0.9611819943530441,
           0.9577579431126868,
           1,
           -0.21612409483457184,
           0.34057976186641437,
           -0.07483437538086311,
           -0.004658507139807364
          ],
          [
           -0.2391636346569855,
           0.3913579082537769,
           0.11470428153004313,
           0.2773933598107772,
           0.7129764212851892,
           0.09169177816960995,
           0.3800578034150851,
           -0.34450293622062933,
           0.7786041750212352,
           -0.6500242018267323,
           -0.09337654944338267,
           0.8301168390940615,
           -0.7509945351329088,
           0.5270160687068786,
           0.6471166780696073,
           0.30235055028688,
           -0.15241953012615306,
           -0.32500030807144914,
           -0.21612409483457184,
           1,
           0.06572131008788965,
           0.2717926117280778,
           -0.17433253453287675
          ],
          [
           0.28629241864007293,
           -0.02361390461347524,
           0.003120738100403668,
           -0.08049335949611025,
           0.06996225826441142,
           -0.054448530364340254,
           -0.1736885025797183,
           0.0011877590378523441,
           -0.042131597978386184,
           0.07375191907944721,
           0.126598513920419,
           0.15891886859350543,
           -0.24790254860510452,
           -0.09212526950073784,
           0.15285091816889834,
           0.07297577957812537,
           0.36233356259733496,
           0.2740360370114169,
           0.34057976186641437,
           0.06572131008788965,
           1,
           0.08309761032078782,
           -0.074287401314644
          ],
          [
           0.11403450643303736,
           -0.23894674558142337,
           0.14665288270755517,
           -0.07747547682112513,
           0.44365593141667303,
           0.06438040483360385,
           0.29692213398667255,
           0.24392658401010117,
           0.08972045242788937,
           0.06620157328720384,
           -0.26343410426756947,
           0.21078578353996733,
           -0.21475576826544918,
           0.10311342471249856,
           0.19142941187681262,
           0.12361866894466976,
           -0.028330250414218088,
           -0.14246455248373732,
           -0.07483437538086311,
           0.2717926117280778,
           0.08309761032078782,
           1,
           0.6454201441006111
          ],
          [
           0.22130045411478824,
           -0.4555291981182116,
           0.11425783802684437,
           -0.2560525972758143,
           -0.04620307677309772,
           0.10366598585966588,
           0.34125337253625504,
           0.49994446281132143,
           -0.2948351082100965,
           0.38696593356845926,
           -0.20174648592055772,
           -0.14879767613307726,
           0.12526711820415834,
           -0.06438415327322686,
           -0.08147183124927018,
           -0.048610474349904516,
           -0.006337084302266977,
           0.013464636782978068,
           -0.004658507139807364,
           -0.17433253453287675,
           -0.074287401314644,
           0.6454201441006111,
           1
          ]
         ]
        }
       ],
       "layout": {
        "coloraxis": {
         "colorbar": {
          "title": {
           "text": "Correlation"
          }
         },
         "colorscale": [
          [
           0,
           "rgb(5,48,97)"
          ],
          [
           0.1,
           "rgb(33,102,172)"
          ],
          [
           0.2,
           "rgb(67,147,195)"
          ],
          [
           0.3,
           "rgb(146,197,222)"
          ],
          [
           0.4,
           "rgb(209,229,240)"
          ],
          [
           0.5,
           "rgb(247,247,247)"
          ],
          [
           0.6,
           "rgb(253,219,199)"
          ],
          [
           0.7,
           "rgb(244,165,130)"
          ],
          [
           0.8,
           "rgb(214,96,77)"
          ],
          [
           0.9,
           "rgb(178,24,43)"
          ],
          [
           1,
           "rgb(103,0,31)"
          ]
         ]
        },
        "margin": {
         "t": 60
        },
        "template": {
         "data": {
          "bar": [
           {
            "error_x": {
             "color": "#2a3f5f"
            },
            "error_y": {
             "color": "#2a3f5f"
            },
            "marker": {
             "line": {
              "color": "#E5ECF6",
              "width": 0.5
             },
             "pattern": {
              "fillmode": "overlay",
              "size": 10,
              "solidity": 0.2
             }
            },
            "type": "bar"
           }
          ],
          "barpolar": [
           {
            "marker": {
             "line": {
              "color": "#E5ECF6",
              "width": 0.5
             },
             "pattern": {
              "fillmode": "overlay",
              "size": 10,
              "solidity": 0.2
             }
            },
            "type": "barpolar"
           }
          ],
          "carpet": [
           {
            "aaxis": {
             "endlinecolor": "#2a3f5f",
             "gridcolor": "white",
             "linecolor": "white",
             "minorgridcolor": "white",
             "startlinecolor": "#2a3f5f"
            },
            "baxis": {
             "endlinecolor": "#2a3f5f",
             "gridcolor": "white",
             "linecolor": "white",
             "minorgridcolor": "white",
             "startlinecolor": "#2a3f5f"
            },
            "type": "carpet"
           }
          ],
          "choropleth": [
           {
            "colorbar": {
             "outlinewidth": 0,
             "ticks": ""
            },
            "type": "choropleth"
           }
          ],
          "contour": [
           {
            "colorbar": {
             "outlinewidth": 0,
             "ticks": ""
            },
            "colorscale": [
             [
              0,
              "#0d0887"
             ],
             [
              0.1111111111111111,
              "#46039f"
             ],
             [
              0.2222222222222222,
              "#7201a8"
             ],
             [
              0.3333333333333333,
              "#9c179e"
             ],
             [
              0.4444444444444444,
              "#bd3786"
             ],
             [
              0.5555555555555556,
              "#d8576b"
             ],
             [
              0.6666666666666666,
              "#ed7953"
             ],
             [
              0.7777777777777778,
              "#fb9f3a"
             ],
             [
              0.8888888888888888,
              "#fdca26"
             ],
             [
              1,
              "#f0f921"
             ]
            ],
            "type": "contour"
           }
          ],
          "contourcarpet": [
           {
            "colorbar": {
             "outlinewidth": 0,
             "ticks": ""
            },
            "type": "contourcarpet"
           }
          ],
          "heatmap": [
           {
            "colorbar": {
             "outlinewidth": 0,
             "ticks": ""
            },
            "colorscale": [
             [
              0,
              "#0d0887"
             ],
             [
              0.1111111111111111,
              "#46039f"
             ],
             [
              0.2222222222222222,
              "#7201a8"
             ],
             [
              0.3333333333333333,
              "#9c179e"
             ],
             [
              0.4444444444444444,
              "#bd3786"
             ],
             [
              0.5555555555555556,
              "#d8576b"
             ],
             [
              0.6666666666666666,
              "#ed7953"
             ],
             [
              0.7777777777777778,
              "#fb9f3a"
             ],
             [
              0.8888888888888888,
              "#fdca26"
             ],
             [
              1,
              "#f0f921"
             ]
            ],
            "type": "heatmap"
           }
          ],
          "heatmapgl": [
           {
            "colorbar": {
             "outlinewidth": 0,
             "ticks": ""
            },
            "colorscale": [
             [
              0,
              "#0d0887"
             ],
             [
              0.1111111111111111,
              "#46039f"
             ],
             [
              0.2222222222222222,
              "#7201a8"
             ],
             [
              0.3333333333333333,
              "#9c179e"
             ],
             [
              0.4444444444444444,
              "#bd3786"
             ],
             [
              0.5555555555555556,
              "#d8576b"
             ],
             [
              0.6666666666666666,
              "#ed7953"
             ],
             [
              0.7777777777777778,
              "#fb9f3a"
             ],
             [
              0.8888888888888888,
              "#fdca26"
             ],
             [
              1,
              "#f0f921"
             ]
            ],
            "type": "heatmapgl"
           }
          ],
          "histogram": [
           {
            "marker": {
             "pattern": {
              "fillmode": "overlay",
              "size": 10,
              "solidity": 0.2
             }
            },
            "type": "histogram"
           }
          ],
          "histogram2d": [
           {
            "colorbar": {
             "outlinewidth": 0,
             "ticks": ""
            },
            "colorscale": [
             [
              0,
              "#0d0887"
             ],
             [
              0.1111111111111111,
              "#46039f"
             ],
             [
              0.2222222222222222,
              "#7201a8"
             ],
             [
              0.3333333333333333,
              "#9c179e"
             ],
             [
              0.4444444444444444,
              "#bd3786"
             ],
             [
              0.5555555555555556,
              "#d8576b"
             ],
             [
              0.6666666666666666,
              "#ed7953"
             ],
             [
              0.7777777777777778,
              "#fb9f3a"
             ],
             [
              0.8888888888888888,
              "#fdca26"
             ],
             [
              1,
              "#f0f921"
             ]
            ],
            "type": "histogram2d"
           }
          ],
          "histogram2dcontour": [
           {
            "colorbar": {
             "outlinewidth": 0,
             "ticks": ""
            },
            "colorscale": [
             [
              0,
              "#0d0887"
             ],
             [
              0.1111111111111111,
              "#46039f"
             ],
             [
              0.2222222222222222,
              "#7201a8"
             ],
             [
              0.3333333333333333,
              "#9c179e"
             ],
             [
              0.4444444444444444,
              "#bd3786"
             ],
             [
              0.5555555555555556,
              "#d8576b"
             ],
             [
              0.6666666666666666,
              "#ed7953"
             ],
             [
              0.7777777777777778,
              "#fb9f3a"
             ],
             [
              0.8888888888888888,
              "#fdca26"
             ],
             [
              1,
              "#f0f921"
             ]
            ],
            "type": "histogram2dcontour"
           }
          ],
          "mesh3d": [
           {
            "colorbar": {
             "outlinewidth": 0,
             "ticks": ""
            },
            "type": "mesh3d"
           }
          ],
          "parcoords": [
           {
            "line": {
             "colorbar": {
              "outlinewidth": 0,
              "ticks": ""
             }
            },
            "type": "parcoords"
           }
          ],
          "pie": [
           {
            "automargin": true,
            "type": "pie"
           }
          ],
          "scatter": [
           {
            "fillpattern": {
             "fillmode": "overlay",
             "size": 10,
             "solidity": 0.2
            },
            "type": "scatter"
           }
          ],
          "scatter3d": [
           {
            "line": {
             "colorbar": {
              "outlinewidth": 0,
              "ticks": ""
             }
            },
            "marker": {
             "colorbar": {
              "outlinewidth": 0,
              "ticks": ""
             }
            },
            "type": "scatter3d"
           }
          ],
          "scattercarpet": [
           {
            "marker": {
             "colorbar": {
              "outlinewidth": 0,
              "ticks": ""
             }
            },
            "type": "scattercarpet"
           }
          ],
          "scattergeo": [
           {
            "marker": {
             "colorbar": {
              "outlinewidth": 0,
              "ticks": ""
             }
            },
            "type": "scattergeo"
           }
          ],
          "scattergl": [
           {
            "marker": {
             "colorbar": {
              "outlinewidth": 0,
              "ticks": ""
             }
            },
            "type": "scattergl"
           }
          ],
          "scattermapbox": [
           {
            "marker": {
             "colorbar": {
              "outlinewidth": 0,
              "ticks": ""
             }
            },
            "type": "scattermapbox"
           }
          ],
          "scatterpolar": [
           {
            "marker": {
             "colorbar": {
              "outlinewidth": 0,
              "ticks": ""
             }
            },
            "type": "scatterpolar"
           }
          ],
          "scatterpolargl": [
           {
            "marker": {
             "colorbar": {
              "outlinewidth": 0,
              "ticks": ""
             }
            },
            "type": "scatterpolargl"
           }
          ],
          "scatterternary": [
           {
            "marker": {
             "colorbar": {
              "outlinewidth": 0,
              "ticks": ""
             }
            },
            "type": "scatterternary"
           }
          ],
          "surface": [
           {
            "colorbar": {
             "outlinewidth": 0,
             "ticks": ""
            },
            "colorscale": [
             [
              0,
              "#0d0887"
             ],
             [
              0.1111111111111111,
              "#46039f"
             ],
             [
              0.2222222222222222,
              "#7201a8"
             ],
             [
              0.3333333333333333,
              "#9c179e"
             ],
             [
              0.4444444444444444,
              "#bd3786"
             ],
             [
              0.5555555555555556,
              "#d8576b"
             ],
             [
              0.6666666666666666,
              "#ed7953"
             ],
             [
              0.7777777777777778,
              "#fb9f3a"
             ],
             [
              0.8888888888888888,
              "#fdca26"
             ],
             [
              1,
              "#f0f921"
             ]
            ],
            "type": "surface"
           }
          ],
          "table": [
           {
            "cells": {
             "fill": {
              "color": "#EBF0F8"
             },
             "line": {
              "color": "white"
             }
            },
            "header": {
             "fill": {
              "color": "#C8D4E3"
             },
             "line": {
              "color": "white"
             }
            },
            "type": "table"
           }
          ]
         },
         "layout": {
          "annotationdefaults": {
           "arrowcolor": "#2a3f5f",
           "arrowhead": 0,
           "arrowwidth": 1
          },
          "autotypenumbers": "strict",
          "coloraxis": {
           "colorbar": {
            "outlinewidth": 0,
            "ticks": ""
           }
          },
          "colorscale": {
           "diverging": [
            [
             0,
             "#8e0152"
            ],
            [
             0.1,
             "#c51b7d"
            ],
            [
             0.2,
             "#de77ae"
            ],
            [
             0.3,
             "#f1b6da"
            ],
            [
             0.4,
             "#fde0ef"
            ],
            [
             0.5,
             "#f7f7f7"
            ],
            [
             0.6,
             "#e6f5d0"
            ],
            [
             0.7,
             "#b8e186"
            ],
            [
             0.8,
             "#7fbc41"
            ],
            [
             0.9,
             "#4d9221"
            ],
            [
             1,
             "#276419"
            ]
           ],
           "sequential": [
            [
             0,
             "#0d0887"
            ],
            [
             0.1111111111111111,
             "#46039f"
            ],
            [
             0.2222222222222222,
             "#7201a8"
            ],
            [
             0.3333333333333333,
             "#9c179e"
            ],
            [
             0.4444444444444444,
             "#bd3786"
            ],
            [
             0.5555555555555556,
             "#d8576b"
            ],
            [
             0.6666666666666666,
             "#ed7953"
            ],
            [
             0.7777777777777778,
             "#fb9f3a"
            ],
            [
             0.8888888888888888,
             "#fdca26"
            ],
            [
             1,
             "#f0f921"
            ]
           ],
           "sequentialminus": [
            [
             0,
             "#0d0887"
            ],
            [
             0.1111111111111111,
             "#46039f"
            ],
            [
             0.2222222222222222,
             "#7201a8"
            ],
            [
             0.3333333333333333,
             "#9c179e"
            ],
            [
             0.4444444444444444,
             "#bd3786"
            ],
            [
             0.5555555555555556,
             "#d8576b"
            ],
            [
             0.6666666666666666,
             "#ed7953"
            ],
            [
             0.7777777777777778,
             "#fb9f3a"
            ],
            [
             0.8888888888888888,
             "#fdca26"
            ],
            [
             1,
             "#f0f921"
            ]
           ]
          },
          "colorway": [
           "#636efa",
           "#EF553B",
           "#00cc96",
           "#ab63fa",
           "#FFA15A",
           "#19d3f3",
           "#FF6692",
           "#B6E880",
           "#FF97FF",
           "#FECB52"
          ],
          "font": {
           "color": "#2a3f5f"
          },
          "geo": {
           "bgcolor": "white",
           "lakecolor": "white",
           "landcolor": "#E5ECF6",
           "showlakes": true,
           "showland": true,
           "subunitcolor": "white"
          },
          "hoverlabel": {
           "align": "left"
          },
          "hovermode": "closest",
          "mapbox": {
           "style": "light"
          },
          "paper_bgcolor": "white",
          "plot_bgcolor": "#E5ECF6",
          "polar": {
           "angularaxis": {
            "gridcolor": "white",
            "linecolor": "white",
            "ticks": ""
           },
           "bgcolor": "#E5ECF6",
           "radialaxis": {
            "gridcolor": "white",
            "linecolor": "white",
            "ticks": ""
           }
          },
          "scene": {
           "xaxis": {
            "backgroundcolor": "#E5ECF6",
            "gridcolor": "white",
            "gridwidth": 2,
            "linecolor": "white",
            "showbackground": true,
            "ticks": "",
            "zerolinecolor": "white"
           },
           "yaxis": {
            "backgroundcolor": "#E5ECF6",
            "gridcolor": "white",
            "gridwidth": 2,
            "linecolor": "white",
            "showbackground": true,
            "ticks": "",
            "zerolinecolor": "white"
           },
           "zaxis": {
            "backgroundcolor": "#E5ECF6",
            "gridcolor": "white",
            "gridwidth": 2,
            "linecolor": "white",
            "showbackground": true,
            "ticks": "",
            "zerolinecolor": "white"
           }
          },
          "shapedefaults": {
           "line": {
            "color": "#2a3f5f"
           }
          },
          "ternary": {
           "aaxis": {
            "gridcolor": "white",
            "linecolor": "white",
            "ticks": ""
           },
           "baxis": {
            "gridcolor": "white",
            "linecolor": "white",
            "ticks": ""
           },
           "bgcolor": "#E5ECF6",
           "caxis": {
            "gridcolor": "white",
            "linecolor": "white",
            "ticks": ""
           }
          },
          "title": {
           "x": 0.05
          },
          "xaxis": {
           "automargin": true,
           "gridcolor": "white",
           "linecolor": "white",
           "ticks": "",
           "title": {
            "standoff": 15
           },
           "zerolinecolor": "white",
           "zerolinewidth": 2
          },
          "yaxis": {
           "automargin": true,
           "gridcolor": "white",
           "linecolor": "white",
           "ticks": "",
           "title": {
            "standoff": 15
           },
           "zerolinecolor": "white",
           "zerolinewidth": 2
          }
         }
        },
        "title": {
         "text": "Mapa de Calor da Matriz de Correlação"
        },
        "xaxis": {
         "anchor": "y",
         "domain": [
          0,
          1
         ]
        },
        "yaxis": {
         "anchor": "x",
         "autorange": "reversed",
         "domain": [
          0,
          1
         ]
        }
       }
      }
     },
     "metadata": {},
     "output_type": "display_data"
    }
   ],
   "source": [
    "import plotly.express as px\n",
    "\n",
    "# Supondo que seu DataFrame df esteja definido corretamente\n",
    "# df = pd.DataFrame(...)\n",
    "\n",
    "correlation_matrix = df.corr(method='spearman')\n",
    "\n",
    "fig = px.imshow(correlation_matrix,\n",
    "                labels=dict(color=\"Correlation\"),\n",
    "                x=correlation_matrix.columns,\n",
    "                y=correlation_matrix.columns,\n",
    "                color_continuous_scale='RdBu_r',\n",
    "                aspect=\"auto\")\n",
    "\n",
    "fig.update_layout(title='Mapa de Calor da Matriz de Correlação')\n",
    "\n",
    "fig.show()\n"
   ]
  },
  {
   "cell_type": "markdown",
   "metadata": {},
   "source": [
    "# KNN"
   ]
  },
  {
   "cell_type": "code",
   "execution_count": 96,
   "metadata": {},
   "outputs": [],
   "source": [
    "X = df.drop(columns=['NSP'])\n",
    "y = df['NSP']\n",
    "\n",
    "X_train, X_test, y_train, y_test = train_test_split(X, y, test_size=0.4, random_state=0)"
   ]
  },
  {
   "cell_type": "code",
   "execution_count": 97,
   "metadata": {},
   "outputs": [
    {
     "name": "stdout",
     "output_type": "stream",
     "text": [
      "ROC AUC dos folds: [0.88412872 0.92417227 0.93658161 0.91453172 0.94135298 0.90652358\n",
      " 0.92580998 0.966272   0.95943319 0.95589873]\n",
      "ROC AUC médio: 0.9314704780835437\n",
      "Desvio padrão: 0.02439139746511527\n"
     ]
    }
   ],
   "source": [
    "from sklearn.model_selection import cross_val_score\n",
    "from sklearn.neighbors import KNeighborsClassifier\n",
    "import numpy as np\n",
    "\n",
    "knn = KNeighborsClassifier(n_neighbors=5)\n",
    "\n",
    "knn.fit(X_train, y_train)\n",
    "\n",
    "# Cross validation para os dados de treino\n",
    "cv_scores = cross_val_score(knn, X_train, y_train, cv=10, scoring='roc_auc_ovo_weighted')\n",
    "\n",
    "print(\"ROC AUC dos folds:\", cv_scores)\n",
    "print(\"ROC AUC médio:\", np.mean(cv_scores))\n",
    "print(\"Desvio padrão:\", np.std(cv_scores))"
   ]
  },
  {
   "cell_type": "code",
   "execution_count": 98,
   "metadata": {},
   "outputs": [
    {
     "name": "stdout",
     "output_type": "stream",
     "text": [
      "Fitting 3 folds for each of 16 candidates, totalling 48 fits\n",
      "Melhor ROC AUC: 0.9462284249641061\n",
      "Melhor parâmetro: {'n_neighbors': 12, 'weights': 'distance'}\n"
     ]
    }
   ],
   "source": [
    "from sklearn.model_selection import GridSearchCV\n",
    "\n",
    "param_grid = {\n",
    "    'n_neighbors': [3, 5, 8, 10, 12, 15, 18, 20],\n",
    "    'weights': ['uniform', 'distance']\n",
    "}\n",
    "\n",
    "grid_search = GridSearchCV(estimator=knn, param_grid=param_grid, cv=3, n_jobs=-1, verbose=1, scoring='roc_auc_ovo_weighted')\n",
    "\n",
    "grid_search.fit(X_train, y_train)\n",
    "\n",
    "print(\"Melhor ROC AUC:\", grid_search.best_score_)\n",
    "print(\"Melhor parâmetro:\", grid_search.best_params_)"
   ]
  },
  {
   "cell_type": "code",
   "execution_count": 99,
   "metadata": {},
   "outputs": [
    {
     "name": "stdout",
     "output_type": "stream",
     "text": [
      "ROC AUC do melhor modelo no conjunto de teste: 0.9561511494776417\n"
     ]
    }
   ],
   "source": [
    "from sklearn.metrics import roc_auc_score, roc_curve\n",
    "import matplotlib.pyplot as plt\n",
    "from sklearn.preprocessing import label_binarize\n",
    "\n",
    "best_model = grid_search.best_estimator_\n",
    "\n",
    "# Probabilidade de cada classe para uma entrada\n",
    "y_prob_bin = best_model.predict_proba(X_test)\n",
    "\n",
    "# Criação dos dummies pois a curva roc usa dados binários\n",
    "y_test_bin = label_binarize(y_test, classes=np.unique(y))\n",
    "\n",
    "roc_auc = roc_auc_score(y_test_bin, y_prob_bin, multi_class='ovo', average='macro')\n",
    "print(\"ROC AUC do melhor modelo no conjunto de teste:\", roc_auc)\n"
   ]
  },
  {
   "cell_type": "code",
   "execution_count": 100,
   "metadata": {},
   "outputs": [
    {
     "data": {
      "image/png": "[encoded data removed]",
      "text/plain": [
       "<Figure size 640x480 with 1 Axes>"
      ]
     },
     "metadata": {},
     "output_type": "display_data"
    }
   ],
   "source": [
    "for i in range(y_test_bin.shape[1]):\n",
    "    fpr, tpr, _ = roc_curve(y_test_bin[:, i], y_prob_bin[:, i])\n",
    "    plt.plot(fpr, tpr, marker='.', label=f'NSP {i + 1}')\n",
    "\n",
    "plt.xlabel('Falso positivo')\n",
    "plt.ylabel('Positivos')\n",
    "plt.title('Curva ROC para cada NSP')\n",
    "plt.legend(loc='best')\n",
    "plt.show()"
   ]
  }
 ],
 "metadata": {
  "kernelspec": {
   "display_name": "Python 3",
   "language": "python",
   "name": "python3"
  },
  "language_info": {
   "codemirror_mode": {
    "name": "ipython",
    "version": 3
   },
   "file_extension": ".py",
   "mimetype": "text/x-python",
   "name": "python",
   "nbconvert_exporter": "python",
   "pygments_lexer": "ipython3",
   "version": "3.12.2"
  }
 },
 "nbformat": 4,
 "nbformat_minor": 2
}
